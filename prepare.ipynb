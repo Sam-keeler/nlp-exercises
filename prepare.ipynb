{
 "cells": [
  {
   "cell_type": "code",
   "execution_count": 24,
   "metadata": {},
   "outputs": [
    {
     "name": "stderr",
     "output_type": "stream",
     "text": [
      "[nltk_data] Downloading package wordnet to\n",
      "[nltk_data]     /Users/samkeeler/nltk_data...\n",
      "[nltk_data]   Package wordnet is already up-to-date!\n",
      "[nltk_data] Downloading package stopwords to\n",
      "[nltk_data]     /Users/samkeeler/nltk_data...\n",
      "[nltk_data]   Unzipping corpora/stopwords.zip.\n"
     ]
    }
   ],
   "source": [
    "import requests\n",
    "import bs4\n",
    "import pandas as pd\n",
    "import re\n",
    "from requests import get\n",
    "from bs4 import BeautifulSoup\n",
    "import acquire\n",
    "\n",
    "import unicodedata\n",
    "import re\n",
    "import json\n",
    "\n",
    "import nltk\n",
    "from nltk.tokenize.toktok import ToktokTokenizer\n",
    "from nltk.corpus import stopwords\n",
    "nltk.download('wordnet')\n",
    "nltk.download('stopwords')\n",
    "\n",
    "import warnings\n",
    "warnings.filterwarnings(\"ignore\")"
   ]
  },
  {
   "cell_type": "code",
   "execution_count": 2,
   "metadata": {},
   "outputs": [],
   "source": [
    "text = acquire.acquire_codeup_blog('https://codeup.com/data-science-vs-data-analytics-whats-the-difference/')\n",
    "original_blog = text['content']"
   ]
  },
  {
   "cell_type": "code",
   "execution_count": 3,
   "metadata": {},
   "outputs": [
    {
     "data": {
      "text/plain": [
       "'By Dimitri Antoniou\\nA week ago, Codeup launched our immersive Data Science career accelerator! With our first-class kicking off in February and only 25 seats available, we’ve been answering a lot of questions from prospective students. One, in particular, has come up so many times we decided to dedicate a blog post to it. What is the difference between data science and data analytics?\\nFirst, let’s define some of our terms! Take a look at this blog to understand what Data Science is. In short, it is a method of turning raw data into action, leading to the desired outcome. Big Data refers to data sets that are large and complex, usually exceeding the capacity of computers and normal processing power to deal with. Machine Learning is the process of ‘learning’ underlying patterns of data in order to automate the extraction of intelligence from that data.\\n\\xa0\\n\\xa0\\nNow, let’s look at the data pipeline that data scientists work through to reach the actionable insights and outcomes we mentioned:\\n\\nWe start by collecting data, which may come from social media channels, network logs, financials, employee records, or more.\\nWe then process that data into usable information stored in databases or streamed.\\nNext, we look back on the history of that data to summarize, describe, and explain, turning the data into meaningful knowledge. Here we’re primarily using mathematics, statistics, and visualization methods.\\nNow we convert that knowledge into intelligence, seeking to predict future events so that we can make decisions in the present. This is where practitioners will introduce mathematical/statistical modeling through machine learning to their data.\\nFinally, we enable action by building automations, running tests, building visualizations, monitoring new data, etc.\\n\\nData professionals work at different stages of the spectrum to move data through the pipeline. On the left, Big Data Engineers specialize in collecting, storing, and processing data, getting it from Data to Information. In the middle, analysts work to understand and convert that information to knowledge. Lastly, a Machine Learning Engineer utilizes machine learning algorithms to turn intelligence into action by building automations, visualizations, recommendations, and predictions.\\nData Scientists span multiple stages of this pipeline, from information to action. They will spend about 70% of their time wrangling data in the information stage. They will conduct a statistical analysis to derive knowledge. Lastly, they predict future events and build automations using machine learning.\\nFor those technical folk out there, data science is to data engineering or machine learning engineering as full-stack development is to front-end or back-end development. For the non-technical folk, data science is the umbrella term that houses data analytics, machine learning, and other data professions.\\nSo what’s the biggest difference between a data analyst and a data scientist? Data scientists utilize computer programming and machine learning in addition to mathematics and statistics. \\nStill have questions? Reach out to us.\\xa0Wondering which of Codeup’s programs is right for you? We’ve got you covered. And of course, if data science gets you excited, get started with us today!\\n\\n'"
      ]
     },
     "execution_count": 3,
     "metadata": {},
     "output_type": "execute_result"
    }
   ],
   "source": [
    "original_blog"
   ]
  },
  {
   "cell_type": "code",
   "execution_count": 48,
   "metadata": {},
   "outputs": [],
   "source": [
    "def basic_clean(original):\n",
    "    blog_normalized = original.lower()\n",
    "    blog_normalized = unicodedata.normalize('NFKD', blog_normalized)\\\n",
    "        .encode('ascii', 'ignore')\\\n",
    "        .decode('utf-8', 'ignore')\n",
    "    blog_normalized = re.sub(r\"[^a-z0-9'\\s]\", '', blog_normalized)\n",
    "    blog_normalized = blog_normalized.replace('\\n', '')\n",
    "    return blog_normalized"
   ]
  },
  {
   "cell_type": "code",
   "execution_count": 49,
   "metadata": {},
   "outputs": [
    {
     "data": {
      "text/plain": [
       "'by dimitri antonioua week ago codeup launched our immersive data science career accelerator with our firstclass kicking off in february and only 25 seats available weve been answering a lot of questions from prospective students one in particular has come up so many times we decided to dedicate a blog post to it what is the difference between data science and data analyticsfirst lets define some of our terms take a look at this blog to understand what data science is in short it is a method of turning raw data into action leading to the desired outcome big data refers to data sets that are large and complex usually exceeding the capacity of computers and normal processing power to deal with machine learning is the process of learning underlying patterns of data in order to automate the extraction of intelligence from that data  now lets look at the data pipeline that data scientists work through to reach the actionable insights and outcomes we mentionedwe start by collecting data which may come from social media channels network logs financials employee records or morewe then process that data into usable information stored in databases or streamednext we look back on the history of that data to summarize describe and explain turning the data into meaningful knowledge here were primarily using mathematics statistics and visualization methodsnow we convert that knowledge into intelligence seeking to predict future events so that we can make decisions in the present this is where practitioners will introduce mathematicalstatistical modeling through machine learning to their datafinally we enable action by building automations running tests building visualizations monitoring new data etcdata professionals work at different stages of the spectrum to move data through the pipeline on the left big data engineers specialize in collecting storing and processing data getting it from data to information in the middle analysts work to understand and convert that information to knowledge lastly a machine learning engineer utilizes machine learning algorithms to turn intelligence into action by building automations visualizations recommendations and predictionsdata scientists span multiple stages of this pipeline from information to action they will spend about 70 of their time wrangling data in the information stage they will conduct a statistical analysis to derive knowledge lastly they predict future events and build automations using machine learningfor those technical folk out there data science is to data engineering or machine learning engineering as fullstack development is to frontend or backend development for the nontechnical folk data science is the umbrella term that houses data analytics machine learning and other data professionsso whats the biggest difference between a data analyst and a data scientist data scientists utilize computer programming and machine learning in addition to mathematics and statistics still have questions reach out to us wondering which of codeups programs is right for you weve got you covered and of course if data science gets you excited get started with us today'"
      ]
     },
     "execution_count": 49,
     "metadata": {},
     "output_type": "execute_result"
    }
   ],
   "source": [
    "blog_normalized = basic_clean(original_blog)\n",
    "blog_normalized"
   ]
  },
  {
   "cell_type": "code",
   "execution_count": 6,
   "metadata": {},
   "outputs": [],
   "source": [
    "def tokenize(text):\n",
    "    tokenizer = nltk.tokenize.ToktokTokenizer()\n",
    "    return tokenizer.tokenize(text, return_str=True)"
   ]
  },
  {
   "cell_type": "code",
   "execution_count": 7,
   "metadata": {},
   "outputs": [
    {
     "data": {
      "text/plain": [
       "'by dimitri antonioua week ago codeup launched our immersive data science career accelerator with our firstclass kicking off in february and only 25 seats available weve been answering a lot of questions from prospective students one in particular has come up so many times we decided to dedicate a blog post to it what is the difference between data science and data analyticsfirst lets define some of our terms take a look at this blog to understand what data science is in short it is a method of turning raw data into action leading to the desired outcome big data refers to data sets that are large and complex usually exceeding the capacity of computers and normal processing power to deal with machine learning is the process of learning underlying patterns of data in order to automate the extraction of intelligence from that data now lets look at the data pipeline that data scientists work through to reach the actionable insights and outcomes we mentionedwe start by collecting data which may come from social media channels network logs financials employee records or morewe then process that data into usable information stored in databases or streamednext we look back on the history of that data to summarize describe and explain turning the data into meaningful knowledge here were primarily using mathematics statistics and visualization methodsnow we convert that knowledge into intelligence seeking to predict future events so that we can make decisions in the present this is where practitioners will introduce mathematicalstatistical modeling through machine learning to their datafinally we enable action by building automations running tests building visualizations monitoring new data etcdata professionals work at different stages of the spectrum to move data through the pipeline on the left big data engineers specialize in collecting storing and processing data getting it from data to information in the middle analysts work to understand and convert that information to knowledge lastly a machine learning engineer utilizes machine learning algorithms to turn intelligence into action by building automations visualizations recommendations and predictionsdata scientists span multiple stages of this pipeline from information to action they will spend about 70 of their time wrangling data in the information stage they will conduct a statistical analysis to derive knowledge lastly they predict future events and build automations using machine learningfor those technical folk out there data science is to data engineering or machine learning engineering as fullstack development is to frontend or backend development for the nontechnical folk data science is the umbrella term that houses data analytics machine learning and other data professionsso whats the biggest difference between a data analyst and a data scientist data scientists utilize computer programming and machine learning in addition to mathematics and statistics still have questions reach out to us wondering which of codeups programs is right for you weve got you covered and of course if data science gets you excited get started with us today'"
      ]
     },
     "execution_count": 7,
     "metadata": {},
     "output_type": "execute_result"
    }
   ],
   "source": [
    "blog_tokenized = tokenize(blog_normalized)\n",
    "blog_tokenized"
   ]
  },
  {
   "cell_type": "code",
   "execution_count": 8,
   "metadata": {},
   "outputs": [],
   "source": [
    "def stem(text):\n",
    "    ps = nltk.porter.PorterStemmer()\n",
    "    stems = [ps.stem(word) for word in text.split()]\n",
    "    text_stemmed = ' '.join(stems)\n",
    "    return text_stemmed"
   ]
  },
  {
   "cell_type": "code",
   "execution_count": 9,
   "metadata": {},
   "outputs": [
    {
     "data": {
      "text/plain": [
       "'by dimitri antonioua week ago codeup launch our immers data scienc career acceler with our firstclass kick off in februari and onli 25 seat avail weve been answer a lot of question from prospect student one in particular ha come up so mani time we decid to dedic a blog post to it what is the differ between data scienc and data analyticsfirst let defin some of our term take a look at thi blog to understand what data scienc is in short it is a method of turn raw data into action lead to the desir outcom big data refer to data set that are larg and complex usual exceed the capac of comput and normal process power to deal with machin learn is the process of learn underli pattern of data in order to autom the extract of intellig from that data now let look at the data pipelin that data scientist work through to reach the action insight and outcom we mentionedw start by collect data which may come from social media channel network log financi employe record or morew then process that data into usabl inform store in databas or streamednext we look back on the histori of that data to summar describ and explain turn the data into meaning knowledg here were primarili use mathemat statist and visual methodsnow we convert that knowledg into intellig seek to predict futur event so that we can make decis in the present thi is where practition will introduc mathematicalstatist model through machin learn to their datafin we enabl action by build autom run test build visual monitor new data etcdata profession work at differ stage of the spectrum to move data through the pipelin on the left big data engin special in collect store and process data get it from data to inform in the middl analyst work to understand and convert that inform to knowledg lastli a machin learn engin util machin learn algorithm to turn intellig into action by build autom visual recommend and predictionsdata scientist span multipl stage of thi pipelin from inform to action they will spend about 70 of their time wrangl data in the inform stage they will conduct a statist analysi to deriv knowledg lastli they predict futur event and build autom use machin learningfor those technic folk out there data scienc is to data engin or machin learn engin as fullstack develop is to frontend or backend develop for the nontechn folk data scienc is the umbrella term that hous data analyt machin learn and other data professionsso what the biggest differ between a data analyst and a data scientist data scientist util comput program and machin learn in addit to mathemat and statist still have question reach out to us wonder which of codeup program is right for you weve got you cover and of cours if data scienc get you excit get start with us today'"
      ]
     },
     "execution_count": 9,
     "metadata": {},
     "output_type": "execute_result"
    }
   ],
   "source": [
    "blog_stemmed = stem(blog_tokenized)\n",
    "blog_stemmed"
   ]
  },
  {
   "cell_type": "code",
   "execution_count": 19,
   "metadata": {},
   "outputs": [],
   "source": [
    "def lemmatize(text):\n",
    "    wnl = nltk.stem.WordNetLemmatizer()\n",
    "    lemmas = [wnl.lemmatize(word) for word in text.split()]\n",
    "    text_lemmatized = ' '.join(lemmas)\n",
    "    return text_lemmatized"
   ]
  },
  {
   "cell_type": "code",
   "execution_count": 20,
   "metadata": {},
   "outputs": [
    {
     "data": {
      "text/plain": [
       "'by dimitri antonioua week ago codeup launched our immersive data science career accelerator with our firstclass kicking off in february and only 25 seat available weve been answering a lot of question from prospective student one in particular ha come up so many time we decided to dedicate a blog post to it what is the difference between data science and data analyticsfirst let define some of our term take a look at this blog to understand what data science is in short it is a method of turning raw data into action leading to the desired outcome big data refers to data set that are large and complex usually exceeding the capacity of computer and normal processing power to deal with machine learning is the process of learning underlying pattern of data in order to automate the extraction of intelligence from that data now let look at the data pipeline that data scientist work through to reach the actionable insight and outcome we mentionedwe start by collecting data which may come from social medium channel network log financials employee record or morewe then process that data into usable information stored in database or streamednext we look back on the history of that data to summarize describe and explain turning the data into meaningful knowledge here were primarily using mathematics statistic and visualization methodsnow we convert that knowledge into intelligence seeking to predict future event so that we can make decision in the present this is where practitioner will introduce mathematicalstatistical modeling through machine learning to their datafinally we enable action by building automation running test building visualization monitoring new data etcdata professional work at different stage of the spectrum to move data through the pipeline on the left big data engineer specialize in collecting storing and processing data getting it from data to information in the middle analyst work to understand and convert that information to knowledge lastly a machine learning engineer utilizes machine learning algorithm to turn intelligence into action by building automation visualization recommendation and predictionsdata scientist span multiple stage of this pipeline from information to action they will spend about 70 of their time wrangling data in the information stage they will conduct a statistical analysis to derive knowledge lastly they predict future event and build automation using machine learningfor those technical folk out there data science is to data engineering or machine learning engineering a fullstack development is to frontend or backend development for the nontechnical folk data science is the umbrella term that house data analytics machine learning and other data professionsso whats the biggest difference between a data analyst and a data scientist data scientist utilize computer programming and machine learning in addition to mathematics and statistic still have question reach out to u wondering which of codeups program is right for you weve got you covered and of course if data science get you excited get started with u today'"
      ]
     },
     "execution_count": 20,
     "metadata": {},
     "output_type": "execute_result"
    }
   ],
   "source": [
    "blog_lemmatized = lemmatize(blog_tokenized)\n",
    "blog_lemmatized"
   ]
  },
  {
   "cell_type": "code",
   "execution_count": 30,
   "metadata": {},
   "outputs": [],
   "source": [
    "def remove_stopwords(text, extra_words=[], exclude_words=[]):\n",
    "    stopword_list = stopwords.words('english')\n",
    "    for word in exclude_words:\n",
    "        stopword_list.remove(word)\n",
    "    for word in extra_words:\n",
    "        stopword_list.append(word)\n",
    "    words = text.split()\n",
    "    filtered_words = [w for w in words if w not in stopword_list]\n",
    "    text_without_stopwords = ' '.join(filtered_words)\n",
    "    return text_without_stopwords"
   ]
  },
  {
   "cell_type": "code",
   "execution_count": 34,
   "metadata": {},
   "outputs": [
    {
     "data": {
      "text/plain": [
       "'dimitri antonioua week codeup launched immersive science career accelerator firstclass kicking february 25 seat available weve answering lot of question prospective student one particular ha come many time decided dedicate blog post difference science analyticsfirst let define of term take look blog understand science short method of turning raw action leading desired outcome big refers set large complex usually exceeding capacity of computer normal processing power deal machine learning process of learning underlying pattern of order automate extraction of intelligence let look pipeline scientist work reach actionable insight outcome mentionedwe start collecting may come social medium channel network log financials employee record morewe process usable information stored database streamednext look back history of summarize describe explain turning meaningful knowledge primarily using mathematics statistic visualization methodsnow convert knowledge intelligence seeking predict future event make decision present practitioner introduce mathematicalstatistical modeling machine learning datafinally enable action building automation running test building visualization monitoring new etcdata professional work different stage of spectrum move pipeline left big engineer specialize collecting storing processing getting information middle analyst work understand convert information knowledge lastly machine learning engineer utilizes machine learning algorithm turn intelligence action building automation visualization recommendation predictionsdata scientist span multiple stage of pipeline information action spend 70 of time wrangling information stage conduct statistical analysis derive knowledge lastly predict future event build automation using machine learningfor technical folk science engineering machine learning engineering fullstack development frontend backend development nontechnical folk science umbrella term house analytics machine learning professionsso whats biggest difference analyst scientist scientist utilize computer programming machine learning addition mathematics statistic still question reach u wondering of codeups program right weve got covered of course science get excited get started u today'"
      ]
     },
     "execution_count": 34,
     "metadata": {},
     "output_type": "execute_result"
    }
   ],
   "source": [
    "remove_stopwords(blog_lemmatized, extra_words =['ago', 'data'], exclude_words = ['of'])"
   ]
  },
  {
   "cell_type": "code",
   "execution_count": 36,
   "metadata": {},
   "outputs": [
    {
     "data": {
      "text/html": [
       "<div>\n",
       "<style scoped>\n",
       "    .dataframe tbody tr th:only-of-type {\n",
       "        vertical-align: middle;\n",
       "    }\n",
       "\n",
       "    .dataframe tbody tr th {\n",
       "        vertical-align: top;\n",
       "    }\n",
       "\n",
       "    .dataframe thead th {\n",
       "        text-align: right;\n",
       "    }\n",
       "</style>\n",
       "<table border=\"1\" class=\"dataframe\">\n",
       "  <thead>\n",
       "    <tr style=\"text-align: right;\">\n",
       "      <th></th>\n",
       "      <th>title</th>\n",
       "      <th>content</th>\n",
       "      <th>category</th>\n",
       "    </tr>\n",
       "  </thead>\n",
       "  <tbody>\n",
       "    <tr>\n",
       "      <th>0</th>\n",
       "      <td>Air India pilots demand vaccination on priorit...</td>\n",
       "      <td>Indian Commercial Pilots Association (ICPA) on...</td>\n",
       "      <td>business</td>\n",
       "    </tr>\n",
       "    <tr>\n",
       "      <th>1</th>\n",
       "      <td>India underestimated the coronavirus: Raghuram...</td>\n",
       "      <td>Speaking about India's second COVID-19 wave, f...</td>\n",
       "      <td>business</td>\n",
       "    </tr>\n",
       "    <tr>\n",
       "      <th>2</th>\n",
       "      <td>South Korea's richest woman gets fortune worth...</td>\n",
       "      <td>South Korea’s richest woman Hong Ra-hee added ...</td>\n",
       "      <td>business</td>\n",
       "    </tr>\n",
       "    <tr>\n",
       "      <th>3</th>\n",
       "      <td>World's biggest jeweller says it will no longe...</td>\n",
       "      <td>Pandora, the world's biggest jeweller, has sai...</td>\n",
       "      <td>business</td>\n",
       "    </tr>\n",
       "    <tr>\n",
       "      <th>4</th>\n",
       "      <td>Samsung pledges ₹37 crore to India to fight CO...</td>\n",
       "      <td>Samsung has pledged $5 million (around ₹37 cro...</td>\n",
       "      <td>business</td>\n",
       "    </tr>\n",
       "  </tbody>\n",
       "</table>\n",
       "</div>"
      ],
      "text/plain": [
       "                                               title  \\\n",
       "0  Air India pilots demand vaccination on priorit...   \n",
       "1  India underestimated the coronavirus: Raghuram...   \n",
       "2  South Korea's richest woman gets fortune worth...   \n",
       "3  World's biggest jeweller says it will no longe...   \n",
       "4  Samsung pledges ₹37 crore to India to fight CO...   \n",
       "\n",
       "                                             content  category  \n",
       "0  Indian Commercial Pilots Association (ICPA) on...  business  \n",
       "1  Speaking about India's second COVID-19 wave, f...  business  \n",
       "2  South Korea’s richest woman Hong Ra-hee added ...  business  \n",
       "3  Pandora, the world's biggest jeweller, has sai...  business  \n",
       "4  Samsung has pledged $5 million (around ₹37 cro...  business  "
      ]
     },
     "execution_count": 36,
     "metadata": {},
     "output_type": "execute_result"
    }
   ],
   "source": [
    "category_list = [\"business\", \"sports\", \"technology\", \"entertainment\", \"science\", \"world\"]\n",
    "news_df = acquire.get_all_inshorts(category_list)\n",
    "news_df.head()"
   ]
  },
  {
   "cell_type": "code",
   "execution_count": 39,
   "metadata": {},
   "outputs": [
    {
     "data": {
      "text/html": [
       "<div>\n",
       "<style scoped>\n",
       "    .dataframe tbody tr th:only-of-type {\n",
       "        vertical-align: middle;\n",
       "    }\n",
       "\n",
       "    .dataframe tbody tr th {\n",
       "        vertical-align: top;\n",
       "    }\n",
       "\n",
       "    .dataframe thead th {\n",
       "        text-align: right;\n",
       "    }\n",
       "</style>\n",
       "<table border=\"1\" class=\"dataframe\">\n",
       "  <thead>\n",
       "    <tr style=\"text-align: right;\">\n",
       "      <th></th>\n",
       "      <th>title</th>\n",
       "      <th>date</th>\n",
       "      <th>content</th>\n",
       "    </tr>\n",
       "  </thead>\n",
       "  <tbody>\n",
       "    <tr>\n",
       "      <th>0</th>\n",
       "      <td>Codeup’s Data Science Career Accelerator is He...</td>\n",
       "      <td>September 30, 2018</td>\n",
       "      <td>The rumors are true! The time has arrived. Cod...</td>\n",
       "    </tr>\n",
       "    <tr>\n",
       "      <th>1</th>\n",
       "      <td>Data Science Myths - Codeup</td>\n",
       "      <td>October 31, 2018</td>\n",
       "      <td>By Dimitri Antoniou and Maggie Giust\\nData Sci...</td>\n",
       "    </tr>\n",
       "    <tr>\n",
       "      <th>2</th>\n",
       "      <td>Data Science VS Data Analytics: What’s The Dif...</td>\n",
       "      <td>October 17, 2018</td>\n",
       "      <td>By Dimitri Antoniou\\nA week ago, Codeup launch...</td>\n",
       "    </tr>\n",
       "    <tr>\n",
       "      <th>3</th>\n",
       "      <td>10 Tips to Crush It at the SA Tech Job Fair - ...</td>\n",
       "      <td>August 14, 2018</td>\n",
       "      <td>SA Tech Job Fair\\nThe third bi-annual San Anto...</td>\n",
       "    </tr>\n",
       "    <tr>\n",
       "      <th>4</th>\n",
       "      <td>Competitor Bootcamps Are Closing. Is the Model...</td>\n",
       "      <td>August 14, 2018</td>\n",
       "      <td>Competitor Bootcamps Are Closing. Is the Model...</td>\n",
       "    </tr>\n",
       "  </tbody>\n",
       "</table>\n",
       "</div>"
      ],
      "text/plain": [
       "                                               title                date  \\\n",
       "0  Codeup’s Data Science Career Accelerator is He...  September 30, 2018   \n",
       "1                        Data Science Myths - Codeup    October 31, 2018   \n",
       "2  Data Science VS Data Analytics: What’s The Dif...    October 17, 2018   \n",
       "3  10 Tips to Crush It at the SA Tech Job Fair - ...     August 14, 2018   \n",
       "4  Competitor Bootcamps Are Closing. Is the Model...     August 14, 2018   \n",
       "\n",
       "                                             content  \n",
       "0  The rumors are true! The time has arrived. Cod...  \n",
       "1  By Dimitri Antoniou and Maggie Giust\\nData Sci...  \n",
       "2  By Dimitri Antoniou\\nA week ago, Codeup launch...  \n",
       "3  SA Tech Job Fair\\nThe third bi-annual San Anto...  \n",
       "4  Competitor Bootcamps Are Closing. Is the Model...  "
      ]
     },
     "execution_count": 39,
     "metadata": {},
     "output_type": "execute_result"
    }
   ],
   "source": [
    "codeup_df = acquire.acquire_all_blogs()\n",
    "codeup_df"
   ]
  },
  {
   "cell_type": "code",
   "execution_count": 53,
   "metadata": {},
   "outputs": [],
   "source": [
    "def make_prepped_columns(df):\n",
    "    df.rename(columns = {'content': 'original'}, inplace = True)\n",
    "    df['clean'] = df['original'].apply(lambda x: basic_clean(x))\n",
    "    df['lemmatized'] = df['clean'].apply(lambda x: tokenize(x))\n",
    "    df['stemmed'] = df['lemmatized'].apply(lambda x: stem(x))\n",
    "    df['lemmatized'] = df['lemmatized'].apply(lambda x: lemmatize(x))\n",
    "    return df"
   ]
  },
  {
   "cell_type": "code",
   "execution_count": 55,
   "metadata": {},
   "outputs": [
    {
     "data": {
      "text/html": [
       "<div>\n",
       "<style scoped>\n",
       "    .dataframe tbody tr th:only-of-type {\n",
       "        vertical-align: middle;\n",
       "    }\n",
       "\n",
       "    .dataframe tbody tr th {\n",
       "        vertical-align: top;\n",
       "    }\n",
       "\n",
       "    .dataframe thead th {\n",
       "        text-align: right;\n",
       "    }\n",
       "</style>\n",
       "<table border=\"1\" class=\"dataframe\">\n",
       "  <thead>\n",
       "    <tr style=\"text-align: right;\">\n",
       "      <th></th>\n",
       "      <th>title</th>\n",
       "      <th>date</th>\n",
       "      <th>original</th>\n",
       "      <th>clean</th>\n",
       "      <th>lemmatized</th>\n",
       "      <th>stemmed</th>\n",
       "    </tr>\n",
       "  </thead>\n",
       "  <tbody>\n",
       "    <tr>\n",
       "      <th>0</th>\n",
       "      <td>Codeup’s Data Science Career Accelerator is He...</td>\n",
       "      <td>September 30, 2018</td>\n",
       "      <td>The rumors are true! The time has arrived. Cod...</td>\n",
       "      <td>the rumors are true the time has arrived codeu...</td>\n",
       "      <td>the rumor are true the time ha arrived codeup ...</td>\n",
       "      <td>the rumor are true the time ha arriv codeup ha...</td>\n",
       "    </tr>\n",
       "    <tr>\n",
       "      <th>1</th>\n",
       "      <td>Data Science Myths - Codeup</td>\n",
       "      <td>October 31, 2018</td>\n",
       "      <td>By Dimitri Antoniou and Maggie Giust\\nData Sci...</td>\n",
       "      <td>by dimitri antoniou and maggie giustdata scien...</td>\n",
       "      <td>by dimitri antoniou and maggie giustdata scien...</td>\n",
       "      <td>by dimitri antoni and maggi giustdata scienc b...</td>\n",
       "    </tr>\n",
       "    <tr>\n",
       "      <th>2</th>\n",
       "      <td>Data Science VS Data Analytics: What’s The Dif...</td>\n",
       "      <td>October 17, 2018</td>\n",
       "      <td>By Dimitri Antoniou\\nA week ago, Codeup launch...</td>\n",
       "      <td>by dimitri antonioua week ago codeup launched ...</td>\n",
       "      <td>by dimitri antonioua week ago codeup launched ...</td>\n",
       "      <td>by dimitri antonioua week ago codeup launch ou...</td>\n",
       "    </tr>\n",
       "    <tr>\n",
       "      <th>3</th>\n",
       "      <td>10 Tips to Crush It at the SA Tech Job Fair - ...</td>\n",
       "      <td>August 14, 2018</td>\n",
       "      <td>SA Tech Job Fair\\nThe third bi-annual San Anto...</td>\n",
       "      <td>sa tech job fairthe third biannual san antonio...</td>\n",
       "      <td>sa tech job fairthe third biannual san antonio...</td>\n",
       "      <td>sa tech job fairth third biannual san antonio ...</td>\n",
       "    </tr>\n",
       "    <tr>\n",
       "      <th>4</th>\n",
       "      <td>Competitor Bootcamps Are Closing. Is the Model...</td>\n",
       "      <td>August 14, 2018</td>\n",
       "      <td>Competitor Bootcamps Are Closing. Is the Model...</td>\n",
       "      <td>competitor bootcamps are closing is the model ...</td>\n",
       "      <td>competitor bootcamps are closing is the model ...</td>\n",
       "      <td>competitor bootcamp are close is the model in ...</td>\n",
       "    </tr>\n",
       "  </tbody>\n",
       "</table>\n",
       "</div>"
      ],
      "text/plain": [
       "                                               title                date  \\\n",
       "0  Codeup’s Data Science Career Accelerator is He...  September 30, 2018   \n",
       "1                        Data Science Myths - Codeup    October 31, 2018   \n",
       "2  Data Science VS Data Analytics: What’s The Dif...    October 17, 2018   \n",
       "3  10 Tips to Crush It at the SA Tech Job Fair - ...     August 14, 2018   \n",
       "4  Competitor Bootcamps Are Closing. Is the Model...     August 14, 2018   \n",
       "\n",
       "                                            original  \\\n",
       "0  The rumors are true! The time has arrived. Cod...   \n",
       "1  By Dimitri Antoniou and Maggie Giust\\nData Sci...   \n",
       "2  By Dimitri Antoniou\\nA week ago, Codeup launch...   \n",
       "3  SA Tech Job Fair\\nThe third bi-annual San Anto...   \n",
       "4  Competitor Bootcamps Are Closing. Is the Model...   \n",
       "\n",
       "                                               clean  \\\n",
       "0  the rumors are true the time has arrived codeu...   \n",
       "1  by dimitri antoniou and maggie giustdata scien...   \n",
       "2  by dimitri antonioua week ago codeup launched ...   \n",
       "3  sa tech job fairthe third biannual san antonio...   \n",
       "4  competitor bootcamps are closing is the model ...   \n",
       "\n",
       "                                          lemmatized  \\\n",
       "0  the rumor are true the time ha arrived codeup ...   \n",
       "1  by dimitri antoniou and maggie giustdata scien...   \n",
       "2  by dimitri antonioua week ago codeup launched ...   \n",
       "3  sa tech job fairthe third biannual san antonio...   \n",
       "4  competitor bootcamps are closing is the model ...   \n",
       "\n",
       "                                             stemmed  \n",
       "0  the rumor are true the time ha arriv codeup ha...  \n",
       "1  by dimitri antoni and maggi giustdata scienc b...  \n",
       "2  by dimitri antonioua week ago codeup launch ou...  \n",
       "3  sa tech job fairth third biannual san antonio ...  \n",
       "4  competitor bootcamp are close is the model in ...  "
      ]
     },
     "execution_count": 55,
     "metadata": {},
     "output_type": "execute_result"
    }
   ],
   "source": [
    "make_prepped_columns(codeup_df)"
   ]
  },
  {
   "cell_type": "code",
   "execution_count": 56,
   "metadata": {},
   "outputs": [
    {
     "data": {
      "text/html": [
       "<div>\n",
       "<style scoped>\n",
       "    .dataframe tbody tr th:only-of-type {\n",
       "        vertical-align: middle;\n",
       "    }\n",
       "\n",
       "    .dataframe tbody tr th {\n",
       "        vertical-align: top;\n",
       "    }\n",
       "\n",
       "    .dataframe thead th {\n",
       "        text-align: right;\n",
       "    }\n",
       "</style>\n",
       "<table border=\"1\" class=\"dataframe\">\n",
       "  <thead>\n",
       "    <tr style=\"text-align: right;\">\n",
       "      <th></th>\n",
       "      <th>title</th>\n",
       "      <th>original</th>\n",
       "      <th>category</th>\n",
       "      <th>clean</th>\n",
       "      <th>lemmatized</th>\n",
       "      <th>stemmed</th>\n",
       "    </tr>\n",
       "  </thead>\n",
       "  <tbody>\n",
       "    <tr>\n",
       "      <th>0</th>\n",
       "      <td>Air India pilots demand vaccination on priorit...</td>\n",
       "      <td>Indian Commercial Pilots Association (ICPA) on...</td>\n",
       "      <td>business</td>\n",
       "      <td>indian commercial pilots association icpa on t...</td>\n",
       "      <td>indian commercial pilot association icpa on tu...</td>\n",
       "      <td>indian commerci pilot associ icpa on tuesday s...</td>\n",
       "    </tr>\n",
       "    <tr>\n",
       "      <th>1</th>\n",
       "      <td>India underestimated the coronavirus: Raghuram...</td>\n",
       "      <td>Speaking about India's second COVID-19 wave, f...</td>\n",
       "      <td>business</td>\n",
       "      <td>speaking about india's second covid19 wave for...</td>\n",
       "      <td>speaking about india ' s second covid19 wave f...</td>\n",
       "      <td>speak about india ' s second covid19 wave form...</td>\n",
       "    </tr>\n",
       "    <tr>\n",
       "      <th>2</th>\n",
       "      <td>South Korea's richest woman gets fortune worth...</td>\n",
       "      <td>South Korea’s richest woman Hong Ra-hee added ...</td>\n",
       "      <td>business</td>\n",
       "      <td>south koreas richest woman hong rahee added an...</td>\n",
       "      <td>south korea richest woman hong rahee added ano...</td>\n",
       "      <td>south korea richest woman hong rahe ad anoth 7...</td>\n",
       "    </tr>\n",
       "    <tr>\n",
       "      <th>3</th>\n",
       "      <td>World's biggest jeweller says it will no longe...</td>\n",
       "      <td>Pandora, the world's biggest jeweller, has sai...</td>\n",
       "      <td>business</td>\n",
       "      <td>pandora the world's biggest jeweller has said ...</td>\n",
       "      <td>pandora the world ' s biggest jeweller ha said...</td>\n",
       "      <td>pandora the world ' s biggest jewel ha said th...</td>\n",
       "    </tr>\n",
       "    <tr>\n",
       "      <th>4</th>\n",
       "      <td>Samsung pledges ₹37 crore to India to fight CO...</td>\n",
       "      <td>Samsung has pledged $5 million (around ₹37 cro...</td>\n",
       "      <td>business</td>\n",
       "      <td>samsung has pledged 5 million around 37 crore ...</td>\n",
       "      <td>samsung ha pledged 5 million around 37 crore t...</td>\n",
       "      <td>samsung ha pledg 5 million around 37 crore to ...</td>\n",
       "    </tr>\n",
       "    <tr>\n",
       "      <th>...</th>\n",
       "      <td>...</td>\n",
       "      <td>...</td>\n",
       "      <td>...</td>\n",
       "      <td>...</td>\n",
       "      <td>...</td>\n",
       "      <td>...</td>\n",
       "    </tr>\n",
       "    <tr>\n",
       "      <th>142</th>\n",
       "      <td>Egypt buys 30 more Rafale jets from France in ...</td>\n",
       "      <td>Egypt will buy 30 more Rafale fighter jets fro...</td>\n",
       "      <td>world</td>\n",
       "      <td>egypt will buy 30 more rafale fighter jets fro...</td>\n",
       "      <td>egypt will buy 30 more rafale fighter jet from...</td>\n",
       "      <td>egypt will buy 30 more rafal fighter jet from ...</td>\n",
       "    </tr>\n",
       "    <tr>\n",
       "      <th>143</th>\n",
       "      <td>Chinese Navy to help Indonesia salvage sunken ...</td>\n",
       "      <td>Chinese Navy ships have arrived in Indonesia t...</td>\n",
       "      <td>world</td>\n",
       "      <td>chinese navy ships have arrived in indonesia t...</td>\n",
       "      <td>chinese navy ship have arrived in indonesia to...</td>\n",
       "      <td>chines navi ship have arriv in indonesia to he...</td>\n",
       "    </tr>\n",
       "    <tr>\n",
       "      <th>144</th>\n",
       "      <td>Myanmar's military govt bans satellite TV citi...</td>\n",
       "      <td>Myanmar's military government has announced a ...</td>\n",
       "      <td>world</td>\n",
       "      <td>myanmar's military government has announced a ...</td>\n",
       "      <td>myanmar ' s military government ha announced a...</td>\n",
       "      <td>myanmar ' s militari govern ha announc a ban o...</td>\n",
       "    </tr>\n",
       "    <tr>\n",
       "      <th>145</th>\n",
       "      <td>Could abandon Myanmar project if found to viol...</td>\n",
       "      <td>Adani Ports and Special Economic Zone (APSEZ) ...</td>\n",
       "      <td>world</td>\n",
       "      <td>adani ports and special economic zone apsez sa...</td>\n",
       "      <td>adani port and special economic zone apsez sai...</td>\n",
       "      <td>adani port and special econom zone apsez said ...</td>\n",
       "    </tr>\n",
       "    <tr>\n",
       "      <th>146</th>\n",
       "      <td>Germany's Oktoberfest cancelled again in 2021 ...</td>\n",
       "      <td>Germany's Oktoberfest, the world's largest bee...</td>\n",
       "      <td>world</td>\n",
       "      <td>germany's oktoberfest the world's largest beer...</td>\n",
       "      <td>germany ' s oktoberfest the world ' s largest ...</td>\n",
       "      <td>germani ' s oktoberfest the world ' s largest ...</td>\n",
       "    </tr>\n",
       "  </tbody>\n",
       "</table>\n",
       "<p>147 rows × 6 columns</p>\n",
       "</div>"
      ],
      "text/plain": [
       "                                                 title  \\\n",
       "0    Air India pilots demand vaccination on priorit...   \n",
       "1    India underestimated the coronavirus: Raghuram...   \n",
       "2    South Korea's richest woman gets fortune worth...   \n",
       "3    World's biggest jeweller says it will no longe...   \n",
       "4    Samsung pledges ₹37 crore to India to fight CO...   \n",
       "..                                                 ...   \n",
       "142  Egypt buys 30 more Rafale jets from France in ...   \n",
       "143  Chinese Navy to help Indonesia salvage sunken ...   \n",
       "144  Myanmar's military govt bans satellite TV citi...   \n",
       "145  Could abandon Myanmar project if found to viol...   \n",
       "146  Germany's Oktoberfest cancelled again in 2021 ...   \n",
       "\n",
       "                                              original  category  \\\n",
       "0    Indian Commercial Pilots Association (ICPA) on...  business   \n",
       "1    Speaking about India's second COVID-19 wave, f...  business   \n",
       "2    South Korea’s richest woman Hong Ra-hee added ...  business   \n",
       "3    Pandora, the world's biggest jeweller, has sai...  business   \n",
       "4    Samsung has pledged $5 million (around ₹37 cro...  business   \n",
       "..                                                 ...       ...   \n",
       "142  Egypt will buy 30 more Rafale fighter jets fro...     world   \n",
       "143  Chinese Navy ships have arrived in Indonesia t...     world   \n",
       "144  Myanmar's military government has announced a ...     world   \n",
       "145  Adani Ports and Special Economic Zone (APSEZ) ...     world   \n",
       "146  Germany's Oktoberfest, the world's largest bee...     world   \n",
       "\n",
       "                                                 clean  \\\n",
       "0    indian commercial pilots association icpa on t...   \n",
       "1    speaking about india's second covid19 wave for...   \n",
       "2    south koreas richest woman hong rahee added an...   \n",
       "3    pandora the world's biggest jeweller has said ...   \n",
       "4    samsung has pledged 5 million around 37 crore ...   \n",
       "..                                                 ...   \n",
       "142  egypt will buy 30 more rafale fighter jets fro...   \n",
       "143  chinese navy ships have arrived in indonesia t...   \n",
       "144  myanmar's military government has announced a ...   \n",
       "145  adani ports and special economic zone apsez sa...   \n",
       "146  germany's oktoberfest the world's largest beer...   \n",
       "\n",
       "                                            lemmatized  \\\n",
       "0    indian commercial pilot association icpa on tu...   \n",
       "1    speaking about india ' s second covid19 wave f...   \n",
       "2    south korea richest woman hong rahee added ano...   \n",
       "3    pandora the world ' s biggest jeweller ha said...   \n",
       "4    samsung ha pledged 5 million around 37 crore t...   \n",
       "..                                                 ...   \n",
       "142  egypt will buy 30 more rafale fighter jet from...   \n",
       "143  chinese navy ship have arrived in indonesia to...   \n",
       "144  myanmar ' s military government ha announced a...   \n",
       "145  adani port and special economic zone apsez sai...   \n",
       "146  germany ' s oktoberfest the world ' s largest ...   \n",
       "\n",
       "                                               stemmed  \n",
       "0    indian commerci pilot associ icpa on tuesday s...  \n",
       "1    speak about india ' s second covid19 wave form...  \n",
       "2    south korea richest woman hong rahe ad anoth 7...  \n",
       "3    pandora the world ' s biggest jewel ha said th...  \n",
       "4    samsung ha pledg 5 million around 37 crore to ...  \n",
       "..                                                 ...  \n",
       "142  egypt will buy 30 more rafal fighter jet from ...  \n",
       "143  chines navi ship have arriv in indonesia to he...  \n",
       "144  myanmar ' s militari govern ha announc a ban o...  \n",
       "145  adani port and special econom zone apsez said ...  \n",
       "146  germani ' s oktoberfest the world ' s largest ...  \n",
       "\n",
       "[147 rows x 6 columns]"
      ]
     },
     "execution_count": 56,
     "metadata": {},
     "output_type": "execute_result"
    }
   ],
   "source": [
    "make_prepped_columns(news_df)"
   ]
  },
  {
   "cell_type": "code",
   "execution_count": 10,
   "metadata": {},
   "outputs": [
    {
     "data": {
      "text/plain": [
       "'Maharashtra Health Minister Rajesh Tope on Tuesday said 15 districts, including Mumbai and Thane, are showing a decline in cases of coronavirus. Dhule, Nanded, Bhandara, Nashik, Latur, Nandurbar, Nagpur, Aurangabad, Amravati, Raigad, Osmanabad, Chandrapur and Gondia are also seeing a decline in cases, Tope said. Maharashtra on Tuesday recorded 51,880 new COVID-19 cases and 891 more deaths.'"
      ]
     },
     "execution_count": 10,
     "metadata": {},
     "output_type": "execute_result"
    }
   ],
   "source": [
    "headers = {'User-Agent': 'Mozilla/5.0 (Macintosh; Intel Mac OS X 10_11_5) AppleWebKit/537.36 (KHTML, like Gecko) Chrome/50.0.2661.102 Safari/537.36'}\n",
    "response = requests.get('https://inshorts.com/en/read', headers=headers)\n",
    "html = response.text\n",
    "soup = bs4.BeautifulSoup(html)\n",
    "original_article = acquire.get_article(soup, 'science')['content']\n",
    "original_article"
   ]
  },
  {
   "cell_type": "code",
   "execution_count": 11,
   "metadata": {},
   "outputs": [
    {
     "data": {
      "text/plain": [
       "'maharashtra health minister rajesh tope on tuesday said 15 districts including mumbai and thane are showing a decline in cases of coronavirus dhule nanded bhandara nashik latur nandurbar nagpur aurangabad amravati raigad osmanabad chandrapur and gondia are also seeing a decline in cases tope said maharashtra on tuesday recorded 51880 new covid19 cases and 891 more deaths'"
      ]
     },
     "execution_count": 11,
     "metadata": {},
     "output_type": "execute_result"
    }
   ],
   "source": [
    "article_normalized = basic_clean(original_article)\n",
    "article_normalized"
   ]
  },
  {
   "cell_type": "code",
   "execution_count": 12,
   "metadata": {},
   "outputs": [
    {
     "data": {
      "text/plain": [
       "'maharashtra health minister rajesh tope on tuesday said 15 districts including mumbai and thane are showing a decline in cases of coronavirus dhule nanded bhandara nashik latur nandurbar nagpur aurangabad amravati raigad osmanabad chandrapur and gondia are also seeing a decline in cases tope said maharashtra on tuesday recorded 51880 new covid19 cases and 891 more deaths'"
      ]
     },
     "execution_count": 12,
     "metadata": {},
     "output_type": "execute_result"
    }
   ],
   "source": [
    "article_tokenized = tokenize(article_normalized)\n",
    "article_tokenized"
   ]
  },
  {
   "cell_type": "code",
   "execution_count": 21,
   "metadata": {},
   "outputs": [
    {
     "data": {
      "text/plain": [
       "'maharashtra health minist rajesh tope on tuesday said 15 district includ mumbai and thane are show a declin in case of coronaviru dhule nand bhandara nashik latur nandurbar nagpur aurangabad amravati raigad osmanabad chandrapur and gondia are also see a declin in case tope said maharashtra on tuesday record 51880 new covid19 case and 891 more death'"
      ]
     },
     "execution_count": 21,
     "metadata": {},
     "output_type": "execute_result"
    }
   ],
   "source": [
    "article_stemmed = stem(article_tokenized)\n",
    "article_stemmed"
   ]
  },
  {
   "cell_type": "code",
   "execution_count": 22,
   "metadata": {},
   "outputs": [
    {
     "data": {
      "text/plain": [
       "'maharashtra health minister rajesh tope on tuesday said 15 district including mumbai and thane are showing a decline in case of coronavirus dhule nanded bhandara nashik latur nandurbar nagpur aurangabad amravati raigad osmanabad chandrapur and gondia are also seeing a decline in case tope said maharashtra on tuesday recorded 51880 new covid19 case and 891 more death'"
      ]
     },
     "execution_count": 22,
     "metadata": {},
     "output_type": "execute_result"
    }
   ],
   "source": [
    "article_lemmatized = lemmatize(article_tokenized)\n",
    "article_lemmatized"
   ]
  },
  {
   "cell_type": "code",
   "execution_count": null,
   "metadata": {},
   "outputs": [],
   "source": []
  }
 ],
 "metadata": {
  "kernelspec": {
   "display_name": "Python 3",
   "language": "python",
   "name": "python3"
  },
  "language_info": {
   "codemirror_mode": {
    "name": "ipython",
    "version": 3
   },
   "file_extension": ".py",
   "mimetype": "text/x-python",
   "name": "python",
   "nbconvert_exporter": "python",
   "pygments_lexer": "ipython3",
   "version": "3.8.5"
  }
 },
 "nbformat": 4,
 "nbformat_minor": 4
}
